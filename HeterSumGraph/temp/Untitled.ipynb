{
 "cells": [
  {
   "cell_type": "code",
   "execution_count": 4,
   "id": "c037bbb3-28b9-4ab5-8294-c1e30e077269",
   "metadata": {
    "tags": []
   },
   "outputs": [],
   "source": [
    "import torch \n",
    "from dgl.data.utils import load_graphs\n"
   ]
  },
  {
   "cell_type": "code",
   "execution_count": 11,
   "id": "78ac32e7-ea25-4796-8a83-5a606afa6d76",
   "metadata": {
    "tags": []
   },
   "outputs": [],
   "source": [
    "sent_state = torch.load('sent_state')\n",
    "result = torch.load(\"result\")"
   ]
  },
  {
   "cell_type": "code",
   "execution_count": 6,
   "id": "70fc7905-979a-41ad-8f3a-3ab8ed87d8a7",
   "metadata": {
    "tags": []
   },
   "outputs": [],
   "source": [
    "graphs,_ = load_graphs(\"graphs.bin\")\n",
    "graph = graphs[0]"
   ]
  },
  {
   "cell_type": "code",
   "execution_count": 7,
   "id": "b5181109-7eaa-4b62-88ca-4f0cccb419d6",
   "metadata": {
    "tags": []
   },
   "outputs": [
    {
     "data": {
      "text/plain": [
       "Graph(num_nodes=14316, num_edges=176738,\n",
       "      ndata_schemes={'unit': Scheme(shape=(), dtype=torch.float32), 'id': Scheme(shape=(), dtype=torch.int64), 'dtype': Scheme(shape=(), dtype=torch.float32), 'words': Scheme(shape=(100,), dtype=torch.int64), 'position': Scheme(shape=(1,), dtype=torch.int64), 'sent_embedding': Scheme(shape=(300,), dtype=torch.float32), 'label': Scheme(shape=(50,), dtype=torch.int64), 'embed': Scheme(shape=(300,), dtype=torch.float32)}\n",
       "      edata_schemes={'tffrac': Scheme(shape=(), dtype=torch.int64), 'dtype': Scheme(shape=(), dtype=torch.float32), 'tfidfembed': Scheme(shape=(50,), dtype=torch.float32), 'e': Scheme(shape=(1,), dtype=torch.float32)})"
      ]
     },
     "execution_count": 7,
     "metadata": {},
     "output_type": "execute_result"
    }
   ],
   "source": [
    "graph"
   ]
  },
  {
   "cell_type": "code",
   "execution_count": 18,
   "id": "17ff7135-490c-42a1-a55e-aedaf254e0d6",
   "metadata": {
    "tags": []
   },
   "outputs": [
    {
     "data": {
      "text/plain": [
       "tensor(13, device='cuda:0')"
      ]
     },
     "execution_count": 18,
     "metadata": {},
     "output_type": "execute_result"
    }
   ],
   "source": [
    "torch.argmax(result,axis=1).sum()"
   ]
  },
  {
   "cell_type": "code",
   "execution_count": 20,
   "id": "5de2b882-308f-4339-92f0-68890643f7f8",
   "metadata": {
    "tags": []
   },
   "outputs": [
    {
     "data": {
      "text/plain": [
       "torch.Size([1952, 64])"
      ]
     },
     "execution_count": 20,
     "metadata": {},
     "output_type": "execute_result"
    }
   ],
   "source": [
    "sent_state.shape"
   ]
  },
  {
   "cell_type": "code",
   "execution_count": 23,
   "id": "de19691e-2603-4698-bc2d-4a0911a51682",
   "metadata": {
    "tags": []
   },
   "outputs": [
    {
     "data": {
      "text/plain": [
       "tensor([[ 0.3698, -0.6745],\n",
       "        [ 0.3115, -0.6124],\n",
       "        [ 1.1771, -1.3010],\n",
       "        ...,\n",
       "        [ 1.4368, -1.6777],\n",
       "        [ 1.4608, -2.0875],\n",
       "        [ 0.1937, -0.1417]], device='cuda:0')"
      ]
     },
     "execution_count": 23,
     "metadata": {},
     "output_type": "execute_result"
    }
   ],
   "source": [
    "result"
   ]
  },
  {
   "cell_type": "code",
   "execution_count": 51,
   "id": "2345e176-8297-4bc9-8ab0-0b2271d57a6a",
   "metadata": {
    "tags": []
   },
   "outputs": [],
   "source": [
    "class SentenceLevelModel(torch.nn.Module):\n",
    "    def __init__(self):\n",
    "        super().__init__()\n",
    "        self.rnn = torch.nn.LSTM(64, 20, 1,bias=True)\n",
    "        self.classifier = torch.nn.Linear(20,2)\n",
    "    \n",
    "    def forward(self,x,probabilities):\n",
    "        x = self.rnn(x)[0]\n",
    "        out = self.classifier(x)\n",
    "        return out+probabilities/2"
   ]
  },
  {
   "cell_type": "code",
   "execution_count": 52,
   "id": "ff8fbc8d-6142-4a21-9cb2-9a66abce788d",
   "metadata": {
    "tags": []
   },
   "outputs": [],
   "source": [
    "device = torch.device(\"cuda:0\")"
   ]
  },
  {
   "cell_type": "code",
   "execution_count": 53,
   "id": "792fb40f-a267-4f9d-9269-9e0fc67de94f",
   "metadata": {
    "tags": []
   },
   "outputs": [
    {
     "data": {
      "text/plain": [
       "SentenceLevelModel(\n",
       "  (rnn): LSTM(64, 20)\n",
       "  (classifier): Linear(in_features=20, out_features=2, bias=True)\n",
       ")"
      ]
     },
     "execution_count": 53,
     "metadata": {},
     "output_type": "execute_result"
    }
   ],
   "source": [
    "model = SentenceLevelModel()\n",
    "model.to(device)"
   ]
  },
  {
   "cell_type": "code",
   "execution_count": 55,
   "id": "b0a9b23b-5135-4550-8331-75061534565f",
   "metadata": {
    "tags": []
   },
   "outputs": [],
   "source": [
    "out = model(sent_state,result)"
   ]
  },
  {
   "cell_type": "code",
   "execution_count": 56,
   "id": "08073f61-a2b1-4265-9830-73bb00bdd7a4",
   "metadata": {
    "tags": []
   },
   "outputs": [
    {
     "data": {
      "text/plain": [
       "tensor([[ 0.4173, -0.2529],\n",
       "        [ 0.5290, -0.1796],\n",
       "        [ 0.9462, -0.4894],\n",
       "        ...,\n",
       "        [ 1.1264, -0.4452],\n",
       "        [ 1.1490, -0.6039],\n",
       "        [ 0.5990,  0.3318]], device='cuda:0', grad_fn=<AddBackward0>)"
      ]
     },
     "execution_count": 56,
     "metadata": {},
     "output_type": "execute_result"
    }
   ],
   "source": [
    "out"
   ]
  },
  {
   "cell_type": "code",
   "execution_count": 57,
   "id": "6d44e6f4-1c2e-4dfd-9dff-c928fae58385",
   "metadata": {
    "tags": []
   },
   "outputs": [
    {
     "data": {
      "text/plain": [
       "tensor([[ 0.3698, -0.6745],\n",
       "        [ 0.3115, -0.6124],\n",
       "        [ 1.1771, -1.3010],\n",
       "        ...,\n",
       "        [ 1.4368, -1.6777],\n",
       "        [ 1.4608, -2.0875],\n",
       "        [ 0.1937, -0.1417]], device='cuda:0')"
      ]
     },
     "execution_count": 57,
     "metadata": {},
     "output_type": "execute_result"
    }
   ],
   "source": [
    "result"
   ]
  },
  {
   "cell_type": "code",
   "execution_count": null,
   "id": "8e1b5c8c-930f-419a-9dc5-985373f2d9bb",
   "metadata": {},
   "outputs": [],
   "source": []
  }
 ],
 "metadata": {
  "kernelspec": {
   "display_name": "Python 3 (ipykernel)",
   "language": "python",
   "name": "python3"
  },
  "language_info": {
   "codemirror_mode": {
    "name": "ipython",
    "version": 3
   },
   "file_extension": ".py",
   "mimetype": "text/x-python",
   "name": "python",
   "nbconvert_exporter": "python",
   "pygments_lexer": "ipython3",
   "version": "3.10.10"
  }
 },
 "nbformat": 4,
 "nbformat_minor": 5
}
